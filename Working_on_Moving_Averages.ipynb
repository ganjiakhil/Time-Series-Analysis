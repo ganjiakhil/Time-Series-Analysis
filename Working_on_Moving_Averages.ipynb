{
  "nbformat": 4,
  "nbformat_minor": 0,
  "metadata": {
    "colab": {
      "name": "Working on Moving Averages.ipynb",
      "provenance": [],
      "authorship_tag": "ABX9TyN08H4S83Q9Ii+2CGQjNqC+",
      "include_colab_link": true
    },
    "kernelspec": {
      "name": "python3",
      "display_name": "Python 3"
    },
    "language_info": {
      "name": "python"
    }
  },
  "cells": [
    {
      "cell_type": "markdown",
      "metadata": {
        "id": "view-in-github",
        "colab_type": "text"
      },
      "source": [
        "<a href=\"https://colab.research.google.com/github/ganjiakhil/Time-Series-Analysis/blob/main/Working_on_Moving_Averages.ipynb\" target=\"_parent\"><img src=\"https://colab.research.google.com/assets/colab-badge.svg\" alt=\"Open In Colab\"/></a>"
      ]
    },
    {
      "cell_type": "markdown",
      "metadata": {
        "id": "gTJcPkKb5rVw"
      },
      "source": [
        "#My Notes\n",
        "#Moving Aveages Types\n",
        "- Simple Moving Average\n",
        "- Weighted Moving Average \n",
        "- Exponential Moving Average\n",
        "- Exponential Smoothing Moving Average\n",
        "\n",
        "Moving averages are not only used in Time series analysis but also in RFM algorithm, behavioural models, etc"
      ]
    },
    {
      "cell_type": "code",
      "metadata": {
        "id": "-MQ2dOIDsFQq"
      },
      "source": [
        "import matplotlib as mpl\n",
        "import matplotlib.pyplot as plt\n",
        "import numpy as np\n",
        "import pandas as pd\n",
        "\n",
        "mpl.rcParams['figure.figsize'] = (10, 8)\n",
        "mpl.rcParams['axes.grid'] = False\n",
        "\n",
        "from datetime import datetime"
      ],
      "execution_count": null,
      "outputs": []
    },
    {
      "cell_type": "code",
      "metadata": {
        "id": "xC5z9ZKr60Zy"
      },
      "source": [
        "def parse(x):\n",
        "  return datetime.strptime(x, '%m/%d/%Y')"
      ],
      "execution_count": null,
      "outputs": []
    },
    {
      "cell_type": "markdown",
      "metadata": {
        "id": "jVBwJMc3xbCE"
      },
      "source": [
        "Core Assumption of Moving Average :\n",
        "\n",
        "- Time series is stationary\n",
        "- slow(low) varying mean\n",
        "\n",
        "If data has lot of fluctuations and non stationary mean, it is not used"
      ]
    },
    {
      "cell_type": "markdown",
      "metadata": {
        "id": "J2BjMPWTz4dR"
      },
      "source": [
        "#In this we will work on \"non stationary data \""
      ]
    },
    {
      "cell_type": "code",
      "metadata": {
        "id": "LDw1P8xWxTze"
      },
      "source": [
        "df = pd.read_csv('https://raw.githubusercontent.com/ganjiakhil/Time-Series-Analysis/main/electricity_consumption.csv', parse_dates = ['Bill_Date'], date_parser = parse)"
      ],
      "execution_count": null,
      "outputs": []
    },
    {
      "cell_type": "code",
      "metadata": {
        "colab": {
          "base_uri": "https://localhost:8080/",
          "height": 203
        },
        "id": "PUd4CCQx0i5d",
        "outputId": "8990c120-4f31-4af5-efa4-c920e9d7fa0e"
      },
      "source": [
        "df.head()"
      ],
      "execution_count": null,
      "outputs": [
        {
          "output_type": "execute_result",
          "data": {
            "text/html": [
              "<div>\n",
              "<style scoped>\n",
              "    .dataframe tbody tr th:only-of-type {\n",
              "        vertical-align: middle;\n",
              "    }\n",
              "\n",
              "    .dataframe tbody tr th {\n",
              "        vertical-align: top;\n",
              "    }\n",
              "\n",
              "    .dataframe thead th {\n",
              "        text-align: right;\n",
              "    }\n",
              "</style>\n",
              "<table border=\"1\" class=\"dataframe\">\n",
              "  <thead>\n",
              "    <tr style=\"text-align: right;\">\n",
              "      <th></th>\n",
              "      <th>Bill_Date</th>\n",
              "      <th>On_peak</th>\n",
              "      <th>Off_peak</th>\n",
              "      <th>Usage_charge</th>\n",
              "      <th>Billed_amount</th>\n",
              "      <th>Billing_days</th>\n",
              "    </tr>\n",
              "  </thead>\n",
              "  <tbody>\n",
              "    <tr>\n",
              "      <th>0</th>\n",
              "      <td>2016-01-01</td>\n",
              "      <td>365</td>\n",
              "      <td>1423.5</td>\n",
              "      <td>219.0</td>\n",
              "      <td>247.73</td>\n",
              "      <td>31</td>\n",
              "    </tr>\n",
              "    <tr>\n",
              "      <th>1</th>\n",
              "      <td>2016-02-01</td>\n",
              "      <td>292</td>\n",
              "      <td>1138.8</td>\n",
              "      <td>175.2</td>\n",
              "      <td>234.11</td>\n",
              "      <td>31</td>\n",
              "    </tr>\n",
              "    <tr>\n",
              "      <th>2</th>\n",
              "      <td>2016-03-01</td>\n",
              "      <td>130</td>\n",
              "      <td>507.0</td>\n",
              "      <td>78.0</td>\n",
              "      <td>123.85</td>\n",
              "      <td>29</td>\n",
              "    </tr>\n",
              "    <tr>\n",
              "      <th>3</th>\n",
              "      <td>2016-04-01</td>\n",
              "      <td>117</td>\n",
              "      <td>456.3</td>\n",
              "      <td>70.2</td>\n",
              "      <td>111.22</td>\n",
              "      <td>29</td>\n",
              "    </tr>\n",
              "    <tr>\n",
              "      <th>4</th>\n",
              "      <td>2016-05-01</td>\n",
              "      <td>136</td>\n",
              "      <td>530.4</td>\n",
              "      <td>81.6</td>\n",
              "      <td>118.37</td>\n",
              "      <td>29</td>\n",
              "    </tr>\n",
              "  </tbody>\n",
              "</table>\n",
              "</div>"
            ],
            "text/plain": [
              "   Bill_Date  On_peak  Off_peak  Usage_charge  Billed_amount  Billing_days\n",
              "0 2016-01-01      365    1423.5         219.0         247.73            31\n",
              "1 2016-02-01      292    1138.8         175.2         234.11            31\n",
              "2 2016-03-01      130     507.0          78.0         123.85            29\n",
              "3 2016-04-01      117     456.3          70.2         111.22            29\n",
              "4 2016-05-01      136     530.4          81.6         118.37            29"
            ]
          },
          "metadata": {
            "tags": []
          },
          "execution_count": 4
        }
      ]
    },
    {
      "cell_type": "code",
      "metadata": {
        "colab": {
          "base_uri": "https://localhost:8080/"
        },
        "id": "cFahccfQ0ulX",
        "outputId": "3b36a022-e741-4d0b-a36f-5a7242f20529"
      },
      "source": [
        "print('Rows     : ', df.shape[0])\n",
        "print('Columns  : ', df.shape[1])\n",
        "print('\\nFeatures : ', df.columns.tolist())\n",
        "print('\\nMissing values : ', df.isnull().any())\n",
        "print('\\nUnique values : ', df.nunique())"
      ],
      "execution_count": null,
      "outputs": [
        {
          "output_type": "stream",
          "text": [
            "Rows     :  53\n",
            "Columns  :  6\n",
            "\n",
            "Features :  ['Bill_Date', 'On_peak', 'Off_peak', 'Usage_charge', 'Billed_amount', 'Billing_days']\n",
            "\n",
            "Missing values :  Bill_Date        False\n",
            "On_peak          False\n",
            "Off_peak         False\n",
            "Usage_charge     False\n",
            "Billed_amount    False\n",
            "Billing_days     False\n",
            "dtype: bool\n",
            "\n",
            "Unique values :  Bill_Date        53\n",
            "On_peak          51\n",
            "Off_peak         53\n",
            "Usage_charge     53\n",
            "Billed_amount    52\n",
            "Billing_days      9\n",
            "dtype: int64\n"
          ],
          "name": "stdout"
        }
      ]
    },
    {
      "cell_type": "code",
      "metadata": {
        "id": "hBSpf3wH5kxS"
      },
      "source": [
        "bill_df = df.set_index('Bill_Date')"
      ],
      "execution_count": null,
      "outputs": []
    },
    {
      "cell_type": "code",
      "metadata": {
        "colab": {
          "base_uri": "https://localhost:8080/",
          "height": 234
        },
        "id": "EXZ_5lA87bdG",
        "outputId": "54560bb8-d1b5-4864-d096-eb44358604e2"
      },
      "source": [
        "bill_df.head()"
      ],
      "execution_count": null,
      "outputs": [
        {
          "output_type": "execute_result",
          "data": {
            "text/html": [
              "<div>\n",
              "<style scoped>\n",
              "    .dataframe tbody tr th:only-of-type {\n",
              "        vertical-align: middle;\n",
              "    }\n",
              "\n",
              "    .dataframe tbody tr th {\n",
              "        vertical-align: top;\n",
              "    }\n",
              "\n",
              "    .dataframe thead th {\n",
              "        text-align: right;\n",
              "    }\n",
              "</style>\n",
              "<table border=\"1\" class=\"dataframe\">\n",
              "  <thead>\n",
              "    <tr style=\"text-align: right;\">\n",
              "      <th></th>\n",
              "      <th>On_peak</th>\n",
              "      <th>Off_peak</th>\n",
              "      <th>Usage_charge</th>\n",
              "      <th>Billed_amount</th>\n",
              "      <th>Billing_days</th>\n",
              "    </tr>\n",
              "    <tr>\n",
              "      <th>Bill_Date</th>\n",
              "      <th></th>\n",
              "      <th></th>\n",
              "      <th></th>\n",
              "      <th></th>\n",
              "      <th></th>\n",
              "    </tr>\n",
              "  </thead>\n",
              "  <tbody>\n",
              "    <tr>\n",
              "      <th>2016-01-01</th>\n",
              "      <td>365</td>\n",
              "      <td>1423.5</td>\n",
              "      <td>219.0</td>\n",
              "      <td>247.73</td>\n",
              "      <td>31</td>\n",
              "    </tr>\n",
              "    <tr>\n",
              "      <th>2016-02-01</th>\n",
              "      <td>292</td>\n",
              "      <td>1138.8</td>\n",
              "      <td>175.2</td>\n",
              "      <td>234.11</td>\n",
              "      <td>31</td>\n",
              "    </tr>\n",
              "    <tr>\n",
              "      <th>2016-03-01</th>\n",
              "      <td>130</td>\n",
              "      <td>507.0</td>\n",
              "      <td>78.0</td>\n",
              "      <td>123.85</td>\n",
              "      <td>29</td>\n",
              "    </tr>\n",
              "    <tr>\n",
              "      <th>2016-04-01</th>\n",
              "      <td>117</td>\n",
              "      <td>456.3</td>\n",
              "      <td>70.2</td>\n",
              "      <td>111.22</td>\n",
              "      <td>29</td>\n",
              "    </tr>\n",
              "    <tr>\n",
              "      <th>2016-05-01</th>\n",
              "      <td>136</td>\n",
              "      <td>530.4</td>\n",
              "      <td>81.6</td>\n",
              "      <td>118.37</td>\n",
              "      <td>29</td>\n",
              "    </tr>\n",
              "  </tbody>\n",
              "</table>\n",
              "</div>"
            ],
            "text/plain": [
              "            On_peak  Off_peak  Usage_charge  Billed_amount  Billing_days\n",
              "Bill_Date                                                               \n",
              "2016-01-01      365    1423.5         219.0         247.73            31\n",
              "2016-02-01      292    1138.8         175.2         234.11            31\n",
              "2016-03-01      130     507.0          78.0         123.85            29\n",
              "2016-04-01      117     456.3          70.2         111.22            29\n",
              "2016-05-01      136     530.4          81.6         118.37            29"
            ]
          },
          "metadata": {
            "tags": []
          },
          "execution_count": 9
        }
      ]
    },
    {
      "cell_type": "code",
      "metadata": {
        "colab": {
          "base_uri": "https://localhost:8080/",
          "height": 1000
        },
        "id": "zAOASeKC7cI4",
        "outputId": "d7de0a25-8c41-4411-e8cd-3f1809b55d4f"
      },
      "source": [
        "bill_2018 = bill_df['2016':'2018'][['Billed_amount']]\n",
        "bill_2018"
      ],
      "execution_count": null,
      "outputs": [
        {
          "output_type": "execute_result",
          "data": {
            "text/html": [
              "<div>\n",
              "<style scoped>\n",
              "    .dataframe tbody tr th:only-of-type {\n",
              "        vertical-align: middle;\n",
              "    }\n",
              "\n",
              "    .dataframe tbody tr th {\n",
              "        vertical-align: top;\n",
              "    }\n",
              "\n",
              "    .dataframe thead th {\n",
              "        text-align: right;\n",
              "    }\n",
              "</style>\n",
              "<table border=\"1\" class=\"dataframe\">\n",
              "  <thead>\n",
              "    <tr style=\"text-align: right;\">\n",
              "      <th></th>\n",
              "      <th>Billed_amount</th>\n",
              "    </tr>\n",
              "    <tr>\n",
              "      <th>Bill_Date</th>\n",
              "      <th></th>\n",
              "    </tr>\n",
              "  </thead>\n",
              "  <tbody>\n",
              "    <tr>\n",
              "      <th>2016-01-01</th>\n",
              "      <td>247.73</td>\n",
              "    </tr>\n",
              "    <tr>\n",
              "      <th>2016-02-01</th>\n",
              "      <td>234.11</td>\n",
              "    </tr>\n",
              "    <tr>\n",
              "      <th>2016-03-01</th>\n",
              "      <td>123.85</td>\n",
              "    </tr>\n",
              "    <tr>\n",
              "      <th>2016-04-01</th>\n",
              "      <td>111.22</td>\n",
              "    </tr>\n",
              "    <tr>\n",
              "      <th>2016-05-01</th>\n",
              "      <td>118.37</td>\n",
              "    </tr>\n",
              "    <tr>\n",
              "      <th>2016-06-01</th>\n",
              "      <td>77.81</td>\n",
              "    </tr>\n",
              "    <tr>\n",
              "      <th>2016-07-01</th>\n",
              "      <td>86.67</td>\n",
              "    </tr>\n",
              "    <tr>\n",
              "      <th>2016-08-01</th>\n",
              "      <td>122.40</td>\n",
              "    </tr>\n",
              "    <tr>\n",
              "      <th>2016-09-01</th>\n",
              "      <td>223.62</td>\n",
              "    </tr>\n",
              "    <tr>\n",
              "      <th>2016-10-01</th>\n",
              "      <td>152.54</td>\n",
              "    </tr>\n",
              "    <tr>\n",
              "      <th>2016-11-01</th>\n",
              "      <td>150.54</td>\n",
              "    </tr>\n",
              "    <tr>\n",
              "      <th>2016-12-01</th>\n",
              "      <td>244.37</td>\n",
              "    </tr>\n",
              "    <tr>\n",
              "      <th>2017-01-01</th>\n",
              "      <td>263.64</td>\n",
              "    </tr>\n",
              "    <tr>\n",
              "      <th>2017-02-01</th>\n",
              "      <td>214.32</td>\n",
              "    </tr>\n",
              "    <tr>\n",
              "      <th>2017-03-01</th>\n",
              "      <td>151.54</td>\n",
              "    </tr>\n",
              "    <tr>\n",
              "      <th>2017-04-01</th>\n",
              "      <td>118.79</td>\n",
              "    </tr>\n",
              "    <tr>\n",
              "      <th>2017-05-01</th>\n",
              "      <td>153.18</td>\n",
              "    </tr>\n",
              "    <tr>\n",
              "      <th>2017-06-01</th>\n",
              "      <td>212.08</td>\n",
              "    </tr>\n",
              "    <tr>\n",
              "      <th>2017-07-01</th>\n",
              "      <td>281.19</td>\n",
              "    </tr>\n",
              "    <tr>\n",
              "      <th>2017-08-01</th>\n",
              "      <td>237.97</td>\n",
              "    </tr>\n",
              "    <tr>\n",
              "      <th>2017-09-01</th>\n",
              "      <td>284.30</td>\n",
              "    </tr>\n",
              "    <tr>\n",
              "      <th>2017-10-01</th>\n",
              "      <td>172.69</td>\n",
              "    </tr>\n",
              "    <tr>\n",
              "      <th>2017-11-01</th>\n",
              "      <td>111.51</td>\n",
              "    </tr>\n",
              "    <tr>\n",
              "      <th>2017-12-01</th>\n",
              "      <td>151.42</td>\n",
              "    </tr>\n",
              "    <tr>\n",
              "      <th>2018-01-01</th>\n",
              "      <td>267.32</td>\n",
              "    </tr>\n",
              "    <tr>\n",
              "      <th>2018-02-01</th>\n",
              "      <td>201.35</td>\n",
              "    </tr>\n",
              "    <tr>\n",
              "      <th>2018-03-01</th>\n",
              "      <td>202.91</td>\n",
              "    </tr>\n",
              "    <tr>\n",
              "      <th>2018-04-01</th>\n",
              "      <td>150.86</td>\n",
              "    </tr>\n",
              "    <tr>\n",
              "      <th>2018-05-01</th>\n",
              "      <td>163.07</td>\n",
              "    </tr>\n",
              "    <tr>\n",
              "      <th>2018-06-01</th>\n",
              "      <td>219.76</td>\n",
              "    </tr>\n",
              "    <tr>\n",
              "      <th>2018-07-01</th>\n",
              "      <td>283.98</td>\n",
              "    </tr>\n",
              "    <tr>\n",
              "      <th>2018-08-01</th>\n",
              "      <td>290.15</td>\n",
              "    </tr>\n",
              "    <tr>\n",
              "      <th>2018-09-01</th>\n",
              "      <td>257.96</td>\n",
              "    </tr>\n",
              "    <tr>\n",
              "      <th>2018-10-01</th>\n",
              "      <td>327.19</td>\n",
              "    </tr>\n",
              "    <tr>\n",
              "      <th>2018-11-01</th>\n",
              "      <td>193.49</td>\n",
              "    </tr>\n",
              "    <tr>\n",
              "      <th>2018-12-01</th>\n",
              "      <td>152.34</td>\n",
              "    </tr>\n",
              "  </tbody>\n",
              "</table>\n",
              "</div>"
            ],
            "text/plain": [
              "            Billed_amount\n",
              "Bill_Date                \n",
              "2016-01-01         247.73\n",
              "2016-02-01         234.11\n",
              "2016-03-01         123.85\n",
              "2016-04-01         111.22\n",
              "2016-05-01         118.37\n",
              "2016-06-01          77.81\n",
              "2016-07-01          86.67\n",
              "2016-08-01         122.40\n",
              "2016-09-01         223.62\n",
              "2016-10-01         152.54\n",
              "2016-11-01         150.54\n",
              "2016-12-01         244.37\n",
              "2017-01-01         263.64\n",
              "2017-02-01         214.32\n",
              "2017-03-01         151.54\n",
              "2017-04-01         118.79\n",
              "2017-05-01         153.18\n",
              "2017-06-01         212.08\n",
              "2017-07-01         281.19\n",
              "2017-08-01         237.97\n",
              "2017-09-01         284.30\n",
              "2017-10-01         172.69\n",
              "2017-11-01         111.51\n",
              "2017-12-01         151.42\n",
              "2018-01-01         267.32\n",
              "2018-02-01         201.35\n",
              "2018-03-01         202.91\n",
              "2018-04-01         150.86\n",
              "2018-05-01         163.07\n",
              "2018-06-01         219.76\n",
              "2018-07-01         283.98\n",
              "2018-08-01         290.15\n",
              "2018-09-01         257.96\n",
              "2018-10-01         327.19\n",
              "2018-11-01         193.49\n",
              "2018-12-01         152.34"
            ]
          },
          "metadata": {
            "tags": []
          },
          "execution_count": 10
        }
      ]
    },
    {
      "cell_type": "markdown",
      "metadata": {
        "id": "lcUixKwt7-dv"
      },
      "source": [
        "Simple moving average calculates an average of last 'n' data points.\n",
        "n could be period for which we want to average\n",
        "\n",
        "SMA = (t + (t-1) + (t-2) + ... + (t-n))/n "
      ]
    },
    {
      "cell_type": "markdown",
      "metadata": {
        "id": "kYYDbIC28vSS"
      },
      "source": [
        "Handy function in pandas to calculate simple moving average is rollinf fn."
      ]
    },
    {
      "cell_type": "code",
      "metadata": {
        "colab": {
          "base_uri": "https://localhost:8080/"
        },
        "id": "UItiodgY7zPy",
        "outputId": "49678de9-b9b0-45c2-80aa-ba771c4058c6"
      },
      "source": [
        "bill_2018['Billed_amount'].rolling(window=3).mean()"
      ],
      "execution_count": null,
      "outputs": [
        {
          "output_type": "execute_result",
          "data": {
            "text/plain": [
              "Bill_Date\n",
              "2016-01-01           NaN\n",
              "2016-02-01           NaN\n",
              "2016-03-01    201.896667\n",
              "2016-04-01    156.393333\n",
              "2016-05-01    117.813333\n",
              "2016-06-01    102.466667\n",
              "2016-07-01     94.283333\n",
              "2016-08-01     95.626667\n",
              "2016-09-01    144.230000\n",
              "2016-10-01    166.186667\n",
              "2016-11-01    175.566667\n",
              "2016-12-01    182.483333\n",
              "2017-01-01    219.516667\n",
              "2017-02-01    240.776667\n",
              "2017-03-01    209.833333\n",
              "2017-04-01    161.550000\n",
              "2017-05-01    141.170000\n",
              "2017-06-01    161.350000\n",
              "2017-07-01    215.483333\n",
              "2017-08-01    243.746667\n",
              "2017-09-01    267.820000\n",
              "2017-10-01    231.653333\n",
              "2017-11-01    189.500000\n",
              "2017-12-01    145.206667\n",
              "2018-01-01    176.750000\n",
              "2018-02-01    206.696667\n",
              "2018-03-01    223.860000\n",
              "2018-04-01    185.040000\n",
              "2018-05-01    172.280000\n",
              "2018-06-01    177.896667\n",
              "2018-07-01    222.270000\n",
              "2018-08-01    264.630000\n",
              "2018-09-01    277.363333\n",
              "2018-10-01    291.766667\n",
              "2018-11-01    259.546667\n",
              "2018-12-01    224.340000\n",
              "Name: Billed_amount, dtype: float64"
            ]
          },
          "metadata": {
            "tags": []
          },
          "execution_count": 11
        }
      ]
    },
    {
      "cell_type": "code",
      "metadata": {
        "id": "knZS68jm89_4"
      },
      "source": [
        "bill_2018['ma_rolling_3'] = bill_2018['Billed_amount'].rolling(window=3).mean().shift(1)"
      ],
      "execution_count": null,
      "outputs": []
    },
    {
      "cell_type": "code",
      "metadata": {
        "colab": {
          "base_uri": "https://localhost:8080/",
          "height": 1000
        },
        "id": "_OwHinsG9CQx",
        "outputId": "5b30dcf3-eec8-417d-cef9-6757d1e0ce40"
      },
      "source": [
        "bill_2018"
      ],
      "execution_count": null,
      "outputs": [
        {
          "output_type": "execute_result",
          "data": {
            "text/html": [
              "<div>\n",
              "<style scoped>\n",
              "    .dataframe tbody tr th:only-of-type {\n",
              "        vertical-align: middle;\n",
              "    }\n",
              "\n",
              "    .dataframe tbody tr th {\n",
              "        vertical-align: top;\n",
              "    }\n",
              "\n",
              "    .dataframe thead th {\n",
              "        text-align: right;\n",
              "    }\n",
              "</style>\n",
              "<table border=\"1\" class=\"dataframe\">\n",
              "  <thead>\n",
              "    <tr style=\"text-align: right;\">\n",
              "      <th></th>\n",
              "      <th>Billed_amount</th>\n",
              "      <th>ma_rolling_3</th>\n",
              "    </tr>\n",
              "    <tr>\n",
              "      <th>Bill_Date</th>\n",
              "      <th></th>\n",
              "      <th></th>\n",
              "    </tr>\n",
              "  </thead>\n",
              "  <tbody>\n",
              "    <tr>\n",
              "      <th>2016-01-01</th>\n",
              "      <td>247.73</td>\n",
              "      <td>NaN</td>\n",
              "    </tr>\n",
              "    <tr>\n",
              "      <th>2016-02-01</th>\n",
              "      <td>234.11</td>\n",
              "      <td>NaN</td>\n",
              "    </tr>\n",
              "    <tr>\n",
              "      <th>2016-03-01</th>\n",
              "      <td>123.85</td>\n",
              "      <td>NaN</td>\n",
              "    </tr>\n",
              "    <tr>\n",
              "      <th>2016-04-01</th>\n",
              "      <td>111.22</td>\n",
              "      <td>201.896667</td>\n",
              "    </tr>\n",
              "    <tr>\n",
              "      <th>2016-05-01</th>\n",
              "      <td>118.37</td>\n",
              "      <td>156.393333</td>\n",
              "    </tr>\n",
              "    <tr>\n",
              "      <th>2016-06-01</th>\n",
              "      <td>77.81</td>\n",
              "      <td>117.813333</td>\n",
              "    </tr>\n",
              "    <tr>\n",
              "      <th>2016-07-01</th>\n",
              "      <td>86.67</td>\n",
              "      <td>102.466667</td>\n",
              "    </tr>\n",
              "    <tr>\n",
              "      <th>2016-08-01</th>\n",
              "      <td>122.40</td>\n",
              "      <td>94.283333</td>\n",
              "    </tr>\n",
              "    <tr>\n",
              "      <th>2016-09-01</th>\n",
              "      <td>223.62</td>\n",
              "      <td>95.626667</td>\n",
              "    </tr>\n",
              "    <tr>\n",
              "      <th>2016-10-01</th>\n",
              "      <td>152.54</td>\n",
              "      <td>144.230000</td>\n",
              "    </tr>\n",
              "    <tr>\n",
              "      <th>2016-11-01</th>\n",
              "      <td>150.54</td>\n",
              "      <td>166.186667</td>\n",
              "    </tr>\n",
              "    <tr>\n",
              "      <th>2016-12-01</th>\n",
              "      <td>244.37</td>\n",
              "      <td>175.566667</td>\n",
              "    </tr>\n",
              "    <tr>\n",
              "      <th>2017-01-01</th>\n",
              "      <td>263.64</td>\n",
              "      <td>182.483333</td>\n",
              "    </tr>\n",
              "    <tr>\n",
              "      <th>2017-02-01</th>\n",
              "      <td>214.32</td>\n",
              "      <td>219.516667</td>\n",
              "    </tr>\n",
              "    <tr>\n",
              "      <th>2017-03-01</th>\n",
              "      <td>151.54</td>\n",
              "      <td>240.776667</td>\n",
              "    </tr>\n",
              "    <tr>\n",
              "      <th>2017-04-01</th>\n",
              "      <td>118.79</td>\n",
              "      <td>209.833333</td>\n",
              "    </tr>\n",
              "    <tr>\n",
              "      <th>2017-05-01</th>\n",
              "      <td>153.18</td>\n",
              "      <td>161.550000</td>\n",
              "    </tr>\n",
              "    <tr>\n",
              "      <th>2017-06-01</th>\n",
              "      <td>212.08</td>\n",
              "      <td>141.170000</td>\n",
              "    </tr>\n",
              "    <tr>\n",
              "      <th>2017-07-01</th>\n",
              "      <td>281.19</td>\n",
              "      <td>161.350000</td>\n",
              "    </tr>\n",
              "    <tr>\n",
              "      <th>2017-08-01</th>\n",
              "      <td>237.97</td>\n",
              "      <td>215.483333</td>\n",
              "    </tr>\n",
              "    <tr>\n",
              "      <th>2017-09-01</th>\n",
              "      <td>284.30</td>\n",
              "      <td>243.746667</td>\n",
              "    </tr>\n",
              "    <tr>\n",
              "      <th>2017-10-01</th>\n",
              "      <td>172.69</td>\n",
              "      <td>267.820000</td>\n",
              "    </tr>\n",
              "    <tr>\n",
              "      <th>2017-11-01</th>\n",
              "      <td>111.51</td>\n",
              "      <td>231.653333</td>\n",
              "    </tr>\n",
              "    <tr>\n",
              "      <th>2017-12-01</th>\n",
              "      <td>151.42</td>\n",
              "      <td>189.500000</td>\n",
              "    </tr>\n",
              "    <tr>\n",
              "      <th>2018-01-01</th>\n",
              "      <td>267.32</td>\n",
              "      <td>145.206667</td>\n",
              "    </tr>\n",
              "    <tr>\n",
              "      <th>2018-02-01</th>\n",
              "      <td>201.35</td>\n",
              "      <td>176.750000</td>\n",
              "    </tr>\n",
              "    <tr>\n",
              "      <th>2018-03-01</th>\n",
              "      <td>202.91</td>\n",
              "      <td>206.696667</td>\n",
              "    </tr>\n",
              "    <tr>\n",
              "      <th>2018-04-01</th>\n",
              "      <td>150.86</td>\n",
              "      <td>223.860000</td>\n",
              "    </tr>\n",
              "    <tr>\n",
              "      <th>2018-05-01</th>\n",
              "      <td>163.07</td>\n",
              "      <td>185.040000</td>\n",
              "    </tr>\n",
              "    <tr>\n",
              "      <th>2018-06-01</th>\n",
              "      <td>219.76</td>\n",
              "      <td>172.280000</td>\n",
              "    </tr>\n",
              "    <tr>\n",
              "      <th>2018-07-01</th>\n",
              "      <td>283.98</td>\n",
              "      <td>177.896667</td>\n",
              "    </tr>\n",
              "    <tr>\n",
              "      <th>2018-08-01</th>\n",
              "      <td>290.15</td>\n",
              "      <td>222.270000</td>\n",
              "    </tr>\n",
              "    <tr>\n",
              "      <th>2018-09-01</th>\n",
              "      <td>257.96</td>\n",
              "      <td>264.630000</td>\n",
              "    </tr>\n",
              "    <tr>\n",
              "      <th>2018-10-01</th>\n",
              "      <td>327.19</td>\n",
              "      <td>277.363333</td>\n",
              "    </tr>\n",
              "    <tr>\n",
              "      <th>2018-11-01</th>\n",
              "      <td>193.49</td>\n",
              "      <td>291.766667</td>\n",
              "    </tr>\n",
              "    <tr>\n",
              "      <th>2018-12-01</th>\n",
              "      <td>152.34</td>\n",
              "      <td>259.546667</td>\n",
              "    </tr>\n",
              "  </tbody>\n",
              "</table>\n",
              "</div>"
            ],
            "text/plain": [
              "            Billed_amount  ma_rolling_3\n",
              "Bill_Date                              \n",
              "2016-01-01         247.73           NaN\n",
              "2016-02-01         234.11           NaN\n",
              "2016-03-01         123.85           NaN\n",
              "2016-04-01         111.22    201.896667\n",
              "2016-05-01         118.37    156.393333\n",
              "2016-06-01          77.81    117.813333\n",
              "2016-07-01          86.67    102.466667\n",
              "2016-08-01         122.40     94.283333\n",
              "2016-09-01         223.62     95.626667\n",
              "2016-10-01         152.54    144.230000\n",
              "2016-11-01         150.54    166.186667\n",
              "2016-12-01         244.37    175.566667\n",
              "2017-01-01         263.64    182.483333\n",
              "2017-02-01         214.32    219.516667\n",
              "2017-03-01         151.54    240.776667\n",
              "2017-04-01         118.79    209.833333\n",
              "2017-05-01         153.18    161.550000\n",
              "2017-06-01         212.08    141.170000\n",
              "2017-07-01         281.19    161.350000\n",
              "2017-08-01         237.97    215.483333\n",
              "2017-09-01         284.30    243.746667\n",
              "2017-10-01         172.69    267.820000\n",
              "2017-11-01         111.51    231.653333\n",
              "2017-12-01         151.42    189.500000\n",
              "2018-01-01         267.32    145.206667\n",
              "2018-02-01         201.35    176.750000\n",
              "2018-03-01         202.91    206.696667\n",
              "2018-04-01         150.86    223.860000\n",
              "2018-05-01         163.07    185.040000\n",
              "2018-06-01         219.76    172.280000\n",
              "2018-07-01         283.98    177.896667\n",
              "2018-08-01         290.15    222.270000\n",
              "2018-09-01         257.96    264.630000\n",
              "2018-10-01         327.19    277.363333\n",
              "2018-11-01         193.49    291.766667\n",
              "2018-12-01         152.34    259.546667"
            ]
          },
          "metadata": {
            "tags": []
          },
          "execution_count": 13
        }
      ]
    },
    {
      "cell_type": "code",
      "metadata": {
        "colab": {
          "base_uri": "https://localhost:8080/",
          "height": 309
        },
        "id": "sTCVvFjl9k_l",
        "outputId": "68b405eb-1c65-4c39-a2d3-a026efb4efc5"
      },
      "source": [
        "bill_2018.plot()"
      ],
      "execution_count": null,
      "outputs": [
        {
          "output_type": "execute_result",
          "data": {
            "text/plain": [
              "<matplotlib.axes._subplots.AxesSubplot at 0x7ff2603c1450>"
            ]
          },
          "metadata": {
            "tags": []
          },
          "execution_count": 19
        },
        {
          "output_type": "display_data",
          "data": {
            "image/png": "[encoded data removed]",
            "text/plain": [
              "<Figure size 432x288 with 1 Axes>"
            ]
          },
          "metadata": {
            "tags": [],
            "needs_background": "light"
          }
        }
      ]
    },
    {
      "cell_type": "markdown",
      "metadata": {
        "id": "AEx5bwu4cQ81"
      },
      "source": [
        "weighted moving average = ((t * weighting factor) + ((t-1) * weighting factor-1) +... + ((t-n) * weighting factor-n))/n \n",
        "\n",
        "weighted moving average is a double edged sword, on one side weighted moving averages can find trends sooner than SMA, on  other end there is problem of complexity as weights need to be assigned manually. for small window, complexity doesn't matter"
      ]
    },
    {
      "cell_type": "code",
      "metadata": {
        "id": "hu6pnw_wJL83"
      },
      "source": [
        "def wma(weights):\n",
        "  def calc(x):\n",
        "    return (weights*x).mean()\n",
        "  return calc"
      ],
      "execution_count": null,
      "outputs": []
    },
    {
      "cell_type": "code",
      "metadata": {
        "id": "OhrEFQ-xr2Ao"
      },
      "source": [
        "bill_2018['wma_rolling_3']=bill_2018['Billed_amount'].rolling(window=3).apply(wma(np.array([0.5, 1, 1.5]))).shift(1)"
      ],
      "execution_count": null,
      "outputs": []
    },
    {
      "cell_type": "code",
      "metadata": {
        "colab": {
          "base_uri": "https://localhost:8080/",
          "height": 1000
        },
        "id": "qoyYqDUtsYuX",
        "outputId": "917f84e8-a39e-44fe-d1c5-e06b55a2d87b"
      },
      "source": [
        "bill_2018"
      ],
      "execution_count": null,
      "outputs": [
        {
          "output_type": "execute_result",
          "data": {
            "text/html": [
              "<div>\n",
              "<style scoped>\n",
              "    .dataframe tbody tr th:only-of-type {\n",
              "        vertical-align: middle;\n",
              "    }\n",
              "\n",
              "    .dataframe tbody tr th {\n",
              "        vertical-align: top;\n",
              "    }\n",
              "\n",
              "    .dataframe thead th {\n",
              "        text-align: right;\n",
              "    }\n",
              "</style>\n",
              "<table border=\"1\" class=\"dataframe\">\n",
              "  <thead>\n",
              "    <tr style=\"text-align: right;\">\n",
              "      <th></th>\n",
              "      <th>Billed_amount</th>\n",
              "      <th>ma_rolling_3</th>\n",
              "      <th>wma_rolling_3</th>\n",
              "    </tr>\n",
              "    <tr>\n",
              "      <th>Bill_Date</th>\n",
              "      <th></th>\n",
              "      <th></th>\n",
              "      <th></th>\n",
              "    </tr>\n",
              "  </thead>\n",
              "  <tbody>\n",
              "    <tr>\n",
              "      <th>2016-01-01</th>\n",
              "      <td>247.73</td>\n",
              "      <td>NaN</td>\n",
              "      <td>NaN</td>\n",
              "    </tr>\n",
              "    <tr>\n",
              "      <th>2016-02-01</th>\n",
              "      <td>234.11</td>\n",
              "      <td>NaN</td>\n",
              "      <td>NaN</td>\n",
              "    </tr>\n",
              "    <tr>\n",
              "      <th>2016-03-01</th>\n",
              "      <td>123.85</td>\n",
              "      <td>NaN</td>\n",
              "      <td>NaN</td>\n",
              "    </tr>\n",
              "    <tr>\n",
              "      <th>2016-04-01</th>\n",
              "      <td>111.22</td>\n",
              "      <td>201.896667</td>\n",
              "      <td>181.250000</td>\n",
              "    </tr>\n",
              "    <tr>\n",
              "      <th>2016-05-01</th>\n",
              "      <td>118.37</td>\n",
              "      <td>156.393333</td>\n",
              "      <td>135.911667</td>\n",
              "    </tr>\n",
              "    <tr>\n",
              "      <th>2016-06-01</th>\n",
              "      <td>77.81</td>\n",
              "      <td>117.813333</td>\n",
              "      <td>116.900000</td>\n",
              "    </tr>\n",
              "    <tr>\n",
              "      <th>2016-07-01</th>\n",
              "      <td>86.67</td>\n",
              "      <td>102.466667</td>\n",
              "      <td>96.898333</td>\n",
              "    </tr>\n",
              "    <tr>\n",
              "      <th>2016-08-01</th>\n",
              "      <td>122.40</td>\n",
              "      <td>94.283333</td>\n",
              "      <td>89.000000</td>\n",
              "    </tr>\n",
              "    <tr>\n",
              "      <th>2016-09-01</th>\n",
              "      <td>223.62</td>\n",
              "      <td>95.626667</td>\n",
              "      <td>103.058333</td>\n",
              "    </tr>\n",
              "    <tr>\n",
              "      <th>2016-10-01</th>\n",
              "      <td>152.54</td>\n",
              "      <td>144.230000</td>\n",
              "      <td>167.055000</td>\n",
              "    </tr>\n",
              "    <tr>\n",
              "      <th>2016-11-01</th>\n",
              "      <td>150.54</td>\n",
              "      <td>166.186667</td>\n",
              "      <td>171.210000</td>\n",
              "    </tr>\n",
              "    <tr>\n",
              "      <th>2016-12-01</th>\n",
              "      <td>244.37</td>\n",
              "      <td>175.566667</td>\n",
              "      <td>163.386667</td>\n",
              "    </tr>\n",
              "    <tr>\n",
              "      <th>2017-01-01</th>\n",
              "      <td>263.64</td>\n",
              "      <td>182.483333</td>\n",
              "      <td>197.788333</td>\n",
              "    </tr>\n",
              "    <tr>\n",
              "      <th>2017-02-01</th>\n",
              "      <td>214.32</td>\n",
              "      <td>219.516667</td>\n",
              "      <td>238.366667</td>\n",
              "    </tr>\n",
              "    <tr>\n",
              "      <th>2017-03-01</th>\n",
              "      <td>151.54</td>\n",
              "      <td>240.776667</td>\n",
              "      <td>235.768333</td>\n",
              "    </tr>\n",
              "    <tr>\n",
              "      <th>2017-04-01</th>\n",
              "      <td>118.79</td>\n",
              "      <td>209.833333</td>\n",
              "      <td>191.150000</td>\n",
              "    </tr>\n",
              "    <tr>\n",
              "      <th>2017-05-01</th>\n",
              "      <td>153.18</td>\n",
              "      <td>161.550000</td>\n",
              "      <td>145.628333</td>\n",
              "    </tr>\n",
              "    <tr>\n",
              "      <th>2017-06-01</th>\n",
              "      <td>212.08</td>\n",
              "      <td>141.170000</td>\n",
              "      <td>141.443333</td>\n",
              "    </tr>\n",
              "    <tr>\n",
              "      <th>2017-07-01</th>\n",
              "      <td>281.19</td>\n",
              "      <td>161.350000</td>\n",
              "      <td>176.898333</td>\n",
              "    </tr>\n",
              "    <tr>\n",
              "      <th>2017-08-01</th>\n",
              "      <td>237.97</td>\n",
              "      <td>215.483333</td>\n",
              "      <td>236.818333</td>\n",
              "    </tr>\n",
              "    <tr>\n",
              "      <th>2017-09-01</th>\n",
              "      <td>284.30</td>\n",
              "      <td>243.746667</td>\n",
              "      <td>248.061667</td>\n",
              "    </tr>\n",
              "    <tr>\n",
              "      <th>2017-10-01</th>\n",
              "      <td>172.69</td>\n",
              "      <td>267.820000</td>\n",
              "      <td>268.338333</td>\n",
              "    </tr>\n",
              "    <tr>\n",
              "      <th>2017-11-01</th>\n",
              "      <td>111.51</td>\n",
              "      <td>231.653333</td>\n",
              "      <td>220.773333</td>\n",
              "    </tr>\n",
              "    <tr>\n",
              "      <th>2017-12-01</th>\n",
              "      <td>151.42</td>\n",
              "      <td>189.500000</td>\n",
              "      <td>160.701667</td>\n",
              "    </tr>\n",
              "    <tr>\n",
              "      <th>2018-01-01</th>\n",
              "      <td>267.32</td>\n",
              "      <td>145.206667</td>\n",
              "      <td>141.661667</td>\n",
              "    </tr>\n",
              "    <tr>\n",
              "      <th>2018-02-01</th>\n",
              "      <td>201.35</td>\n",
              "      <td>176.750000</td>\n",
              "      <td>202.718333</td>\n",
              "    </tr>\n",
              "    <tr>\n",
              "      <th>2018-03-01</th>\n",
              "      <td>202.91</td>\n",
              "      <td>206.696667</td>\n",
              "      <td>215.018333</td>\n",
              "    </tr>\n",
              "    <tr>\n",
              "      <th>2018-04-01</th>\n",
              "      <td>150.86</td>\n",
              "      <td>223.860000</td>\n",
              "      <td>213.125000</td>\n",
              "    </tr>\n",
              "    <tr>\n",
              "      <th>2018-05-01</th>\n",
              "      <td>163.07</td>\n",
              "      <td>185.040000</td>\n",
              "      <td>176.625000</td>\n",
              "    </tr>\n",
              "    <tr>\n",
              "      <th>2018-06-01</th>\n",
              "      <td>219.76</td>\n",
              "      <td>172.280000</td>\n",
              "      <td>165.640000</td>\n",
              "    </tr>\n",
              "    <tr>\n",
              "      <th>2018-07-01</th>\n",
              "      <td>283.98</td>\n",
              "      <td>177.896667</td>\n",
              "      <td>189.380000</td>\n",
              "    </tr>\n",
              "    <tr>\n",
              "      <th>2018-08-01</th>\n",
              "      <td>290.15</td>\n",
              "      <td>222.270000</td>\n",
              "      <td>242.421667</td>\n",
              "    </tr>\n",
              "    <tr>\n",
              "      <th>2018-09-01</th>\n",
              "      <td>257.96</td>\n",
              "      <td>264.630000</td>\n",
              "      <td>276.361667</td>\n",
              "    </tr>\n",
              "    <tr>\n",
              "      <th>2018-10-01</th>\n",
              "      <td>327.19</td>\n",
              "      <td>277.363333</td>\n",
              "      <td>273.026667</td>\n",
              "    </tr>\n",
              "    <tr>\n",
              "      <th>2018-11-01</th>\n",
              "      <td>193.49</td>\n",
              "      <td>291.766667</td>\n",
              "      <td>297.940000</td>\n",
              "    </tr>\n",
              "    <tr>\n",
              "      <th>2018-12-01</th>\n",
              "      <td>152.34</td>\n",
              "      <td>259.546667</td>\n",
              "      <td>248.801667</td>\n",
              "    </tr>\n",
              "  </tbody>\n",
              "</table>\n",
              "</div>"
            ],
            "text/plain": [
              "            Billed_amount  ma_rolling_3  wma_rolling_3\n",
              "Bill_Date                                             \n",
              "2016-01-01         247.73           NaN            NaN\n",
              "2016-02-01         234.11           NaN            NaN\n",
              "2016-03-01         123.85           NaN            NaN\n",
              "2016-04-01         111.22    201.896667     181.250000\n",
              "2016-05-01         118.37    156.393333     135.911667\n",
              "2016-06-01          77.81    117.813333     116.900000\n",
              "2016-07-01          86.67    102.466667      96.898333\n",
              "2016-08-01         122.40     94.283333      89.000000\n",
              "2016-09-01         223.62     95.626667     103.058333\n",
              "2016-10-01         152.54    144.230000     167.055000\n",
              "2016-11-01         150.54    166.186667     171.210000\n",
              "2016-12-01         244.37    175.566667     163.386667\n",
              "2017-01-01         263.64    182.483333     197.788333\n",
              "2017-02-01         214.32    219.516667     238.366667\n",
              "2017-03-01         151.54    240.776667     235.768333\n",
              "2017-04-01         118.79    209.833333     191.150000\n",
              "2017-05-01         153.18    161.550000     145.628333\n",
              "2017-06-01         212.08    141.170000     141.443333\n",
              "2017-07-01         281.19    161.350000     176.898333\n",
              "2017-08-01         237.97    215.483333     236.818333\n",
              "2017-09-01         284.30    243.746667     248.061667\n",
              "2017-10-01         172.69    267.820000     268.338333\n",
              "2017-11-01         111.51    231.653333     220.773333\n",
              "2017-12-01         151.42    189.500000     160.701667\n",
              "2018-01-01         267.32    145.206667     141.661667\n",
              "2018-02-01         201.35    176.750000     202.718333\n",
              "2018-03-01         202.91    206.696667     215.018333\n",
              "2018-04-01         150.86    223.860000     213.125000\n",
              "2018-05-01         163.07    185.040000     176.625000\n",
              "2018-06-01         219.76    172.280000     165.640000\n",
              "2018-07-01         283.98    177.896667     189.380000\n",
              "2018-08-01         290.15    222.270000     242.421667\n",
              "2018-09-01         257.96    264.630000     276.361667\n",
              "2018-10-01         327.19    277.363333     273.026667\n",
              "2018-11-01         193.49    291.766667     297.940000\n",
              "2018-12-01         152.34    259.546667     248.801667"
            ]
          },
          "metadata": {
            "tags": []
          },
          "execution_count": 25
        }
      ]
    },
    {
      "cell_type": "code",
      "metadata": {
        "colab": {
          "base_uri": "https://localhost:8080/",
          "height": 309
        },
        "id": "4MprSICYyJrb",
        "outputId": "75167a84-23f1-49de-c258-0247eda29e69"
      },
      "source": [
        "bill_2018.plot()"
      ],
      "execution_count": null,
      "outputs": [
        {
          "output_type": "execute_result",
          "data": {
            "text/plain": [
              "<matplotlib.axes._subplots.AxesSubplot at 0x7ff2602e5310>"
            ]
          },
          "metadata": {
            "tags": []
          },
          "execution_count": 26
        },
        {
          "output_type": "display_data",
          "data": {
            "image/png": "[encoded data removed]",
            "text/plain": [
              "<Figure size 432x288 with 1 Axes>"
            ]
          },
          "metadata": {
            "tags": [],
            "needs_background": "light"
          }
        }
      ]
    },
    {
      "cell_type": "markdown",
      "metadata": {
        "id": "wVG831H_yez_"
      },
      "source": [
        "Exponential Moving Average is similar to WMA but we do not assign weights. It takes previous time periods and calculate EMA and takes EMA as next input, instead of value at previous time (t-1)\n",
        "\n",
        "Pros:\n",
        "- (imp*)Adapts more quickly to latest data point changes\n",
        "- No need of deciding weights\n",
        "\n",
        "EMA = (close-previous EMA)*(2/(span+1))+previous EMA\n",
        "span is duration for which EMA is calculated\n"
      ]
    },
    {
      "cell_type": "code",
      "metadata": {
        "id": "e0rfnJEryay8"
      },
      "source": [
        "bill_2018['ewm_window_3'] = bill_2018['Billed_amount'].ewm(span=3, adjust=False, min_periods=0).mean().shift(1)"
      ],
      "execution_count": null,
      "outputs": []
    },
    {
      "cell_type": "code",
      "metadata": {
        "colab": {
          "base_uri": "https://localhost:8080/",
          "height": 1000
        },
        "id": "FC30EF0l2mnw",
        "outputId": "dddbd645-9da3-43b0-9277-b4c05b4dcc7b"
      },
      "source": [
        "bill_2018"
      ],
      "execution_count": null,
      "outputs": [
        {
          "output_type": "execute_result",
          "data": {
            "text/html": [
              "<div>\n",
              "<style scoped>\n",
              "    .dataframe tbody tr th:only-of-type {\n",
              "        vertical-align: middle;\n",
              "    }\n",
              "\n",
              "    .dataframe tbody tr th {\n",
              "        vertical-align: top;\n",
              "    }\n",
              "\n",
              "    .dataframe thead th {\n",
              "        text-align: right;\n",
              "    }\n",
              "</style>\n",
              "<table border=\"1\" class=\"dataframe\">\n",
              "  <thead>\n",
              "    <tr style=\"text-align: right;\">\n",
              "      <th></th>\n",
              "      <th>Billed_amount</th>\n",
              "      <th>ma_rolling_3</th>\n",
              "      <th>wma_rolling_3</th>\n",
              "      <th>ewm_window_3</th>\n",
              "    </tr>\n",
              "    <tr>\n",
              "      <th>Bill_Date</th>\n",
              "      <th></th>\n",
              "      <th></th>\n",
              "      <th></th>\n",
              "      <th></th>\n",
              "    </tr>\n",
              "  </thead>\n",
              "  <tbody>\n",
              "    <tr>\n",
              "      <th>2016-01-01</th>\n",
              "      <td>247.73</td>\n",
              "      <td>NaN</td>\n",
              "      <td>NaN</td>\n",
              "      <td>NaN</td>\n",
              "    </tr>\n",
              "    <tr>\n",
              "      <th>2016-02-01</th>\n",
              "      <td>234.11</td>\n",
              "      <td>NaN</td>\n",
              "      <td>NaN</td>\n",
              "      <td>247.730000</td>\n",
              "    </tr>\n",
              "    <tr>\n",
              "      <th>2016-03-01</th>\n",
              "      <td>123.85</td>\n",
              "      <td>NaN</td>\n",
              "      <td>NaN</td>\n",
              "      <td>240.920000</td>\n",
              "    </tr>\n",
              "    <tr>\n",
              "      <th>2016-04-01</th>\n",
              "      <td>111.22</td>\n",
              "      <td>201.896667</td>\n",
              "      <td>181.250000</td>\n",
              "      <td>182.385000</td>\n",
              "    </tr>\n",
              "    <tr>\n",
              "      <th>2016-05-01</th>\n",
              "      <td>118.37</td>\n",
              "      <td>156.393333</td>\n",
              "      <td>135.911667</td>\n",
              "      <td>146.802500</td>\n",
              "    </tr>\n",
              "    <tr>\n",
              "      <th>2016-06-01</th>\n",
              "      <td>77.81</td>\n",
              "      <td>117.813333</td>\n",
              "      <td>116.900000</td>\n",
              "      <td>132.586250</td>\n",
              "    </tr>\n",
              "    <tr>\n",
              "      <th>2016-07-01</th>\n",
              "      <td>86.67</td>\n",
              "      <td>102.466667</td>\n",
              "      <td>96.898333</td>\n",
              "      <td>105.198125</td>\n",
              "    </tr>\n",
              "    <tr>\n",
              "      <th>2016-08-01</th>\n",
              "      <td>122.40</td>\n",
              "      <td>94.283333</td>\n",
              "      <td>89.000000</td>\n",
              "      <td>95.934063</td>\n",
              "    </tr>\n",
              "    <tr>\n",
              "      <th>2016-09-01</th>\n",
              "      <td>223.62</td>\n",
              "      <td>95.626667</td>\n",
              "      <td>103.058333</td>\n",
              "      <td>109.167031</td>\n",
              "    </tr>\n",
              "    <tr>\n",
              "      <th>2016-10-01</th>\n",
              "      <td>152.54</td>\n",
              "      <td>144.230000</td>\n",
              "      <td>167.055000</td>\n",
              "      <td>166.393516</td>\n",
              "    </tr>\n",
              "    <tr>\n",
              "      <th>2016-11-01</th>\n",
              "      <td>150.54</td>\n",
              "      <td>166.186667</td>\n",
              "      <td>171.210000</td>\n",
              "      <td>159.466758</td>\n",
              "    </tr>\n",
              "    <tr>\n",
              "      <th>2016-12-01</th>\n",
              "      <td>244.37</td>\n",
              "      <td>175.566667</td>\n",
              "      <td>163.386667</td>\n",
              "      <td>155.003379</td>\n",
              "    </tr>\n",
              "    <tr>\n",
              "      <th>2017-01-01</th>\n",
              "      <td>263.64</td>\n",
              "      <td>182.483333</td>\n",
              "      <td>197.788333</td>\n",
              "      <td>199.686689</td>\n",
              "    </tr>\n",
              "    <tr>\n",
              "      <th>2017-02-01</th>\n",
              "      <td>214.32</td>\n",
              "      <td>219.516667</td>\n",
              "      <td>238.366667</td>\n",
              "      <td>231.663345</td>\n",
              "    </tr>\n",
              "    <tr>\n",
              "      <th>2017-03-01</th>\n",
              "      <td>151.54</td>\n",
              "      <td>240.776667</td>\n",
              "      <td>235.768333</td>\n",
              "      <td>222.991672</td>\n",
              "    </tr>\n",
              "    <tr>\n",
              "      <th>2017-04-01</th>\n",
              "      <td>118.79</td>\n",
              "      <td>209.833333</td>\n",
              "      <td>191.150000</td>\n",
              "      <td>187.265836</td>\n",
              "    </tr>\n",
              "    <tr>\n",
              "      <th>2017-05-01</th>\n",
              "      <td>153.18</td>\n",
              "      <td>161.550000</td>\n",
              "      <td>145.628333</td>\n",
              "      <td>153.027918</td>\n",
              "    </tr>\n",
              "    <tr>\n",
              "      <th>2017-06-01</th>\n",
              "      <td>212.08</td>\n",
              "      <td>141.170000</td>\n",
              "      <td>141.443333</td>\n",
              "      <td>153.103959</td>\n",
              "    </tr>\n",
              "    <tr>\n",
              "      <th>2017-07-01</th>\n",
              "      <td>281.19</td>\n",
              "      <td>161.350000</td>\n",
              "      <td>176.898333</td>\n",
              "      <td>182.591980</td>\n",
              "    </tr>\n",
              "    <tr>\n",
              "      <th>2017-08-01</th>\n",
              "      <td>237.97</td>\n",
              "      <td>215.483333</td>\n",
              "      <td>236.818333</td>\n",
              "      <td>231.890990</td>\n",
              "    </tr>\n",
              "    <tr>\n",
              "      <th>2017-09-01</th>\n",
              "      <td>284.30</td>\n",
              "      <td>243.746667</td>\n",
              "      <td>248.061667</td>\n",
              "      <td>234.930495</td>\n",
              "    </tr>\n",
              "    <tr>\n",
              "      <th>2017-10-01</th>\n",
              "      <td>172.69</td>\n",
              "      <td>267.820000</td>\n",
              "      <td>268.338333</td>\n",
              "      <td>259.615247</td>\n",
              "    </tr>\n",
              "    <tr>\n",
              "      <th>2017-11-01</th>\n",
              "      <td>111.51</td>\n",
              "      <td>231.653333</td>\n",
              "      <td>220.773333</td>\n",
              "      <td>216.152624</td>\n",
              "    </tr>\n",
              "    <tr>\n",
              "      <th>2017-12-01</th>\n",
              "      <td>151.42</td>\n",
              "      <td>189.500000</td>\n",
              "      <td>160.701667</td>\n",
              "      <td>163.831312</td>\n",
              "    </tr>\n",
              "    <tr>\n",
              "      <th>2018-01-01</th>\n",
              "      <td>267.32</td>\n",
              "      <td>145.206667</td>\n",
              "      <td>141.661667</td>\n",
              "      <td>157.625656</td>\n",
              "    </tr>\n",
              "    <tr>\n",
              "      <th>2018-02-01</th>\n",
              "      <td>201.35</td>\n",
              "      <td>176.750000</td>\n",
              "      <td>202.718333</td>\n",
              "      <td>212.472828</td>\n",
              "    </tr>\n",
              "    <tr>\n",
              "      <th>2018-03-01</th>\n",
              "      <td>202.91</td>\n",
              "      <td>206.696667</td>\n",
              "      <td>215.018333</td>\n",
              "      <td>206.911414</td>\n",
              "    </tr>\n",
              "    <tr>\n",
              "      <th>2018-04-01</th>\n",
              "      <td>150.86</td>\n",
              "      <td>223.860000</td>\n",
              "      <td>213.125000</td>\n",
              "      <td>204.910707</td>\n",
              "    </tr>\n",
              "    <tr>\n",
              "      <th>2018-05-01</th>\n",
              "      <td>163.07</td>\n",
              "      <td>185.040000</td>\n",
              "      <td>176.625000</td>\n",
              "      <td>177.885353</td>\n",
              "    </tr>\n",
              "    <tr>\n",
              "      <th>2018-06-01</th>\n",
              "      <td>219.76</td>\n",
              "      <td>172.280000</td>\n",
              "      <td>165.640000</td>\n",
              "      <td>170.477677</td>\n",
              "    </tr>\n",
              "    <tr>\n",
              "      <th>2018-07-01</th>\n",
              "      <td>283.98</td>\n",
              "      <td>177.896667</td>\n",
              "      <td>189.380000</td>\n",
              "      <td>195.118838</td>\n",
              "    </tr>\n",
              "    <tr>\n",
              "      <th>2018-08-01</th>\n",
              "      <td>290.15</td>\n",
              "      <td>222.270000</td>\n",
              "      <td>242.421667</td>\n",
              "      <td>239.549419</td>\n",
              "    </tr>\n",
              "    <tr>\n",
              "      <th>2018-09-01</th>\n",
              "      <td>257.96</td>\n",
              "      <td>264.630000</td>\n",
              "      <td>276.361667</td>\n",
              "      <td>264.849710</td>\n",
              "    </tr>\n",
              "    <tr>\n",
              "      <th>2018-10-01</th>\n",
              "      <td>327.19</td>\n",
              "      <td>277.363333</td>\n",
              "      <td>273.026667</td>\n",
              "      <td>261.404855</td>\n",
              "    </tr>\n",
              "    <tr>\n",
              "      <th>2018-11-01</th>\n",
              "      <td>193.49</td>\n",
              "      <td>291.766667</td>\n",
              "      <td>297.940000</td>\n",
              "      <td>294.297427</td>\n",
              "    </tr>\n",
              "    <tr>\n",
              "      <th>2018-12-01</th>\n",
              "      <td>152.34</td>\n",
              "      <td>259.546667</td>\n",
              "      <td>248.801667</td>\n",
              "      <td>243.893714</td>\n",
              "    </tr>\n",
              "  </tbody>\n",
              "</table>\n",
              "</div>"
            ],
            "text/plain": [
              "            Billed_amount  ma_rolling_3  wma_rolling_3  ewm_window_3\n",
              "Bill_Date                                                           \n",
              "2016-01-01         247.73           NaN            NaN           NaN\n",
              "2016-02-01         234.11           NaN            NaN    247.730000\n",
              "2016-03-01         123.85           NaN            NaN    240.920000\n",
              "2016-04-01         111.22    201.896667     181.250000    182.385000\n",
              "2016-05-01         118.37    156.393333     135.911667    146.802500\n",
              "2016-06-01          77.81    117.813333     116.900000    132.586250\n",
              "2016-07-01          86.67    102.466667      96.898333    105.198125\n",
              "2016-08-01         122.40     94.283333      89.000000     95.934063\n",
              "2016-09-01         223.62     95.626667     103.058333    109.167031\n",
              "2016-10-01         152.54    144.230000     167.055000    166.393516\n",
              "2016-11-01         150.54    166.186667     171.210000    159.466758\n",
              "2016-12-01         244.37    175.566667     163.386667    155.003379\n",
              "2017-01-01         263.64    182.483333     197.788333    199.686689\n",
              "2017-02-01         214.32    219.516667     238.366667    231.663345\n",
              "2017-03-01         151.54    240.776667     235.768333    222.991672\n",
              "2017-04-01         118.79    209.833333     191.150000    187.265836\n",
              "2017-05-01         153.18    161.550000     145.628333    153.027918\n",
              "2017-06-01         212.08    141.170000     141.443333    153.103959\n",
              "2017-07-01         281.19    161.350000     176.898333    182.591980\n",
              "2017-08-01         237.97    215.483333     236.818333    231.890990\n",
              "2017-09-01         284.30    243.746667     248.061667    234.930495\n",
              "2017-10-01         172.69    267.820000     268.338333    259.615247\n",
              "2017-11-01         111.51    231.653333     220.773333    216.152624\n",
              "2017-12-01         151.42    189.500000     160.701667    163.831312\n",
              "2018-01-01         267.32    145.206667     141.661667    157.625656\n",
              "2018-02-01         201.35    176.750000     202.718333    212.472828\n",
              "2018-03-01         202.91    206.696667     215.018333    206.911414\n",
              "2018-04-01         150.86    223.860000     213.125000    204.910707\n",
              "2018-05-01         163.07    185.040000     176.625000    177.885353\n",
              "2018-06-01         219.76    172.280000     165.640000    170.477677\n",
              "2018-07-01         283.98    177.896667     189.380000    195.118838\n",
              "2018-08-01         290.15    222.270000     242.421667    239.549419\n",
              "2018-09-01         257.96    264.630000     276.361667    264.849710\n",
              "2018-10-01         327.19    277.363333     273.026667    261.404855\n",
              "2018-11-01         193.49    291.766667     297.940000    294.297427\n",
              "2018-12-01         152.34    259.546667     248.801667    243.893714"
            ]
          },
          "metadata": {
            "tags": []
          },
          "execution_count": 28
        }
      ]
    },
    {
      "cell_type": "code",
      "metadata": {
        "colab": {
          "base_uri": "https://localhost:8080/",
          "height": 309
        },
        "id": "VCSFqBtr2pCl",
        "outputId": "55c06c61-7a16-4d66-e9dd-7eec5346ec4d"
      },
      "source": [
        "bill_2018.plot()"
      ],
      "execution_count": null,
      "outputs": [
        {
          "output_type": "execute_result",
          "data": {
            "text/plain": [
              "<matplotlib.axes._subplots.AxesSubplot at 0x7ff25f5a29d0>"
            ]
          },
          "metadata": {
            "tags": []
          },
          "execution_count": 30
        },
        {
          "output_type": "display_data",
          "data": {
            "image/png": "[encoded data removed]",
            "text/plain": [
              "<Figure size 432x288 with 1 Axes>"
            ]
          },
          "metadata": {
            "tags": [],
            "needs_background": "light"
          }
        }
      ]
    },
    {
      "cell_type": "markdown",
      "metadata": {
        "id": "9rwPF3_x3SuV"
      },
      "source": [
        "Exponential Smoothing average requires additional factor alpha. This parameters controls the rate at which we influence the observations at prior timesteps and allows you to decay those values exponentially.\n",
        "\n",
        "aplha - smoothing factor\n",
        "\n",
        "large value of alpha means paying attention to most recent data points.\n",
        "small aplha means history is taken into account"
      ]
    },
    {
      "cell_type": "markdown",
      "metadata": {
        "id": "AyHgbYAB4yqy"
      },
      "source": [
        "Y_(t+1) = aplha[Y_(t) + (1-alpha)*Y_(t-1) + sqr(1-aplha)*Y_(t-2) + cube(1-alpha)*Y_(t-3) + ...]\n",
        "\n",
        "aplha will control the decay overtime"
      ]
    },
    {
      "cell_type": "code",
      "metadata": {
        "id": "g2JwtqPc2724"
      },
      "source": [
        "bill_2018['ewm_window_3a']=bill_2018['Billed_amount'].ewm(alpha=0.7, adjust=False, min_periods=3).mean().shift(1)"
      ],
      "execution_count": null,
      "outputs": []
    },
    {
      "cell_type": "code",
      "metadata": {
        "colab": {
          "base_uri": "https://localhost:8080/",
          "height": 1000
        },
        "id": "fDEsTIEU_FLw",
        "outputId": "cbbbcbdf-bdab-4e3b-ce73-f4b421b0db38"
      },
      "source": [
        "bill_2018"
      ],
      "execution_count": null,
      "outputs": [
        {
          "output_type": "execute_result",
          "data": {
            "text/html": [
              "<div>\n",
              "<style scoped>\n",
              "    .dataframe tbody tr th:only-of-type {\n",
              "        vertical-align: middle;\n",
              "    }\n",
              "\n",
              "    .dataframe tbody tr th {\n",
              "        vertical-align: top;\n",
              "    }\n",
              "\n",
              "    .dataframe thead th {\n",
              "        text-align: right;\n",
              "    }\n",
              "</style>\n",
              "<table border=\"1\" class=\"dataframe\">\n",
              "  <thead>\n",
              "    <tr style=\"text-align: right;\">\n",
              "      <th></th>\n",
              "      <th>Billed_amount</th>\n",
              "      <th>ma_rolling_3</th>\n",
              "      <th>wma_rolling_3</th>\n",
              "      <th>ewm_window_3</th>\n",
              "      <th>ewm_window_3a</th>\n",
              "    </tr>\n",
              "    <tr>\n",
              "      <th>Bill_Date</th>\n",
              "      <th></th>\n",
              "      <th></th>\n",
              "      <th></th>\n",
              "      <th></th>\n",
              "      <th></th>\n",
              "    </tr>\n",
              "  </thead>\n",
              "  <tbody>\n",
              "    <tr>\n",
              "      <th>2016-01-01</th>\n",
              "      <td>247.73</td>\n",
              "      <td>NaN</td>\n",
              "      <td>NaN</td>\n",
              "      <td>NaN</td>\n",
              "      <td>NaN</td>\n",
              "    </tr>\n",
              "    <tr>\n",
              "      <th>2016-02-01</th>\n",
              "      <td>234.11</td>\n",
              "      <td>NaN</td>\n",
              "      <td>NaN</td>\n",
              "      <td>247.730000</td>\n",
              "      <td>NaN</td>\n",
              "    </tr>\n",
              "    <tr>\n",
              "      <th>2016-03-01</th>\n",
              "      <td>123.85</td>\n",
              "      <td>NaN</td>\n",
              "      <td>NaN</td>\n",
              "      <td>240.920000</td>\n",
              "      <td>NaN</td>\n",
              "    </tr>\n",
              "    <tr>\n",
              "      <th>2016-04-01</th>\n",
              "      <td>111.22</td>\n",
              "      <td>201.896667</td>\n",
              "      <td>181.250000</td>\n",
              "      <td>182.385000</td>\n",
              "      <td>158.153800</td>\n",
              "    </tr>\n",
              "    <tr>\n",
              "      <th>2016-05-01</th>\n",
              "      <td>118.37</td>\n",
              "      <td>156.393333</td>\n",
              "      <td>135.911667</td>\n",
              "      <td>146.802500</td>\n",
              "      <td>125.300140</td>\n",
              "    </tr>\n",
              "    <tr>\n",
              "      <th>2016-06-01</th>\n",
              "      <td>77.81</td>\n",
              "      <td>117.813333</td>\n",
              "      <td>116.900000</td>\n",
              "      <td>132.586250</td>\n",
              "      <td>120.449042</td>\n",
              "    </tr>\n",
              "    <tr>\n",
              "      <th>2016-07-01</th>\n",
              "      <td>86.67</td>\n",
              "      <td>102.466667</td>\n",
              "      <td>96.898333</td>\n",
              "      <td>105.198125</td>\n",
              "      <td>90.601713</td>\n",
              "    </tr>\n",
              "    <tr>\n",
              "      <th>2016-08-01</th>\n",
              "      <td>122.40</td>\n",
              "      <td>94.283333</td>\n",
              "      <td>89.000000</td>\n",
              "      <td>95.934063</td>\n",
              "      <td>87.849514</td>\n",
              "    </tr>\n",
              "    <tr>\n",
              "      <th>2016-09-01</th>\n",
              "      <td>223.62</td>\n",
              "      <td>95.626667</td>\n",
              "      <td>103.058333</td>\n",
              "      <td>109.167031</td>\n",
              "      <td>112.034854</td>\n",
              "    </tr>\n",
              "    <tr>\n",
              "      <th>2016-10-01</th>\n",
              "      <td>152.54</td>\n",
              "      <td>144.230000</td>\n",
              "      <td>167.055000</td>\n",
              "      <td>166.393516</td>\n",
              "      <td>190.144456</td>\n",
              "    </tr>\n",
              "    <tr>\n",
              "      <th>2016-11-01</th>\n",
              "      <td>150.54</td>\n",
              "      <td>166.186667</td>\n",
              "      <td>171.210000</td>\n",
              "      <td>159.466758</td>\n",
              "      <td>163.821337</td>\n",
              "    </tr>\n",
              "    <tr>\n",
              "      <th>2016-12-01</th>\n",
              "      <td>244.37</td>\n",
              "      <td>175.566667</td>\n",
              "      <td>163.386667</td>\n",
              "      <td>155.003379</td>\n",
              "      <td>154.524401</td>\n",
              "    </tr>\n",
              "    <tr>\n",
              "      <th>2017-01-01</th>\n",
              "      <td>263.64</td>\n",
              "      <td>182.483333</td>\n",
              "      <td>197.788333</td>\n",
              "      <td>199.686689</td>\n",
              "      <td>217.416320</td>\n",
              "    </tr>\n",
              "    <tr>\n",
              "      <th>2017-02-01</th>\n",
              "      <td>214.32</td>\n",
              "      <td>219.516667</td>\n",
              "      <td>238.366667</td>\n",
              "      <td>231.663345</td>\n",
              "      <td>249.772896</td>\n",
              "    </tr>\n",
              "    <tr>\n",
              "      <th>2017-03-01</th>\n",
              "      <td>151.54</td>\n",
              "      <td>240.776667</td>\n",
              "      <td>235.768333</td>\n",
              "      <td>222.991672</td>\n",
              "      <td>224.955869</td>\n",
              "    </tr>\n",
              "    <tr>\n",
              "      <th>2017-04-01</th>\n",
              "      <td>118.79</td>\n",
              "      <td>209.833333</td>\n",
              "      <td>191.150000</td>\n",
              "      <td>187.265836</td>\n",
              "      <td>173.564761</td>\n",
              "    </tr>\n",
              "    <tr>\n",
              "      <th>2017-05-01</th>\n",
              "      <td>153.18</td>\n",
              "      <td>161.550000</td>\n",
              "      <td>145.628333</td>\n",
              "      <td>153.027918</td>\n",
              "      <td>135.222428</td>\n",
              "    </tr>\n",
              "    <tr>\n",
              "      <th>2017-06-01</th>\n",
              "      <td>212.08</td>\n",
              "      <td>141.170000</td>\n",
              "      <td>141.443333</td>\n",
              "      <td>153.103959</td>\n",
              "      <td>147.792728</td>\n",
              "    </tr>\n",
              "    <tr>\n",
              "      <th>2017-07-01</th>\n",
              "      <td>281.19</td>\n",
              "      <td>161.350000</td>\n",
              "      <td>176.898333</td>\n",
              "      <td>182.591980</td>\n",
              "      <td>192.793819</td>\n",
              "    </tr>\n",
              "    <tr>\n",
              "      <th>2017-08-01</th>\n",
              "      <td>237.97</td>\n",
              "      <td>215.483333</td>\n",
              "      <td>236.818333</td>\n",
              "      <td>231.890990</td>\n",
              "      <td>254.671146</td>\n",
              "    </tr>\n",
              "    <tr>\n",
              "      <th>2017-09-01</th>\n",
              "      <td>284.30</td>\n",
              "      <td>243.746667</td>\n",
              "      <td>248.061667</td>\n",
              "      <td>234.930495</td>\n",
              "      <td>242.980344</td>\n",
              "    </tr>\n",
              "    <tr>\n",
              "      <th>2017-10-01</th>\n",
              "      <td>172.69</td>\n",
              "      <td>267.820000</td>\n",
              "      <td>268.338333</td>\n",
              "      <td>259.615247</td>\n",
              "      <td>271.904103</td>\n",
              "    </tr>\n",
              "    <tr>\n",
              "      <th>2017-11-01</th>\n",
              "      <td>111.51</td>\n",
              "      <td>231.653333</td>\n",
              "      <td>220.773333</td>\n",
              "      <td>216.152624</td>\n",
              "      <td>202.454231</td>\n",
              "    </tr>\n",
              "    <tr>\n",
              "      <th>2017-12-01</th>\n",
              "      <td>151.42</td>\n",
              "      <td>189.500000</td>\n",
              "      <td>160.701667</td>\n",
              "      <td>163.831312</td>\n",
              "      <td>138.793269</td>\n",
              "    </tr>\n",
              "    <tr>\n",
              "      <th>2018-01-01</th>\n",
              "      <td>267.32</td>\n",
              "      <td>145.206667</td>\n",
              "      <td>141.661667</td>\n",
              "      <td>157.625656</td>\n",
              "      <td>147.631981</td>\n",
              "    </tr>\n",
              "    <tr>\n",
              "      <th>2018-02-01</th>\n",
              "      <td>201.35</td>\n",
              "      <td>176.750000</td>\n",
              "      <td>202.718333</td>\n",
              "      <td>212.472828</td>\n",
              "      <td>231.413594</td>\n",
              "    </tr>\n",
              "    <tr>\n",
              "      <th>2018-03-01</th>\n",
              "      <td>202.91</td>\n",
              "      <td>206.696667</td>\n",
              "      <td>215.018333</td>\n",
              "      <td>206.911414</td>\n",
              "      <td>210.369078</td>\n",
              "    </tr>\n",
              "    <tr>\n",
              "      <th>2018-04-01</th>\n",
              "      <td>150.86</td>\n",
              "      <td>223.860000</td>\n",
              "      <td>213.125000</td>\n",
              "      <td>204.910707</td>\n",
              "      <td>205.147723</td>\n",
              "    </tr>\n",
              "    <tr>\n",
              "      <th>2018-05-01</th>\n",
              "      <td>163.07</td>\n",
              "      <td>185.040000</td>\n",
              "      <td>176.625000</td>\n",
              "      <td>177.885353</td>\n",
              "      <td>167.146317</td>\n",
              "    </tr>\n",
              "    <tr>\n",
              "      <th>2018-06-01</th>\n",
              "      <td>219.76</td>\n",
              "      <td>172.280000</td>\n",
              "      <td>165.640000</td>\n",
              "      <td>170.477677</td>\n",
              "      <td>164.292895</td>\n",
              "    </tr>\n",
              "    <tr>\n",
              "      <th>2018-07-01</th>\n",
              "      <td>283.98</td>\n",
              "      <td>177.896667</td>\n",
              "      <td>189.380000</td>\n",
              "      <td>195.118838</td>\n",
              "      <td>203.119869</td>\n",
              "    </tr>\n",
              "    <tr>\n",
              "      <th>2018-08-01</th>\n",
              "      <td>290.15</td>\n",
              "      <td>222.270000</td>\n",
              "      <td>242.421667</td>\n",
              "      <td>239.549419</td>\n",
              "      <td>259.721961</td>\n",
              "    </tr>\n",
              "    <tr>\n",
              "      <th>2018-09-01</th>\n",
              "      <td>257.96</td>\n",
              "      <td>264.630000</td>\n",
              "      <td>276.361667</td>\n",
              "      <td>264.849710</td>\n",
              "      <td>281.021588</td>\n",
              "    </tr>\n",
              "    <tr>\n",
              "      <th>2018-10-01</th>\n",
              "      <td>327.19</td>\n",
              "      <td>277.363333</td>\n",
              "      <td>273.026667</td>\n",
              "      <td>261.404855</td>\n",
              "      <td>264.878476</td>\n",
              "    </tr>\n",
              "    <tr>\n",
              "      <th>2018-11-01</th>\n",
              "      <td>193.49</td>\n",
              "      <td>291.766667</td>\n",
              "      <td>297.940000</td>\n",
              "      <td>294.297427</td>\n",
              "      <td>308.496543</td>\n",
              "    </tr>\n",
              "    <tr>\n",
              "      <th>2018-12-01</th>\n",
              "      <td>152.34</td>\n",
              "      <td>259.546667</td>\n",
              "      <td>248.801667</td>\n",
              "      <td>243.893714</td>\n",
              "      <td>227.991963</td>\n",
              "    </tr>\n",
              "  </tbody>\n",
              "</table>\n",
              "</div>"
            ],
            "text/plain": [
              "            Billed_amount  ma_rolling_3  ...  ewm_window_3  ewm_window_3a\n",
              "Bill_Date                                ...                             \n",
              "2016-01-01         247.73           NaN  ...           NaN            NaN\n",
              "2016-02-01         234.11           NaN  ...    247.730000            NaN\n",
              "2016-03-01         123.85           NaN  ...    240.920000            NaN\n",
              "2016-04-01         111.22    201.896667  ...    182.385000     158.153800\n",
              "2016-05-01         118.37    156.393333  ...    146.802500     125.300140\n",
              "2016-06-01          77.81    117.813333  ...    132.586250     120.449042\n",
              "2016-07-01          86.67    102.466667  ...    105.198125      90.601713\n",
              "2016-08-01         122.40     94.283333  ...     95.934063      87.849514\n",
              "2016-09-01         223.62     95.626667  ...    109.167031     112.034854\n",
              "2016-10-01         152.54    144.230000  ...    166.393516     190.144456\n",
              "2016-11-01         150.54    166.186667  ...    159.466758     163.821337\n",
              "2016-12-01         244.37    175.566667  ...    155.003379     154.524401\n",
              "2017-01-01         263.64    182.483333  ...    199.686689     217.416320\n",
              "2017-02-01         214.32    219.516667  ...    231.663345     249.772896\n",
              "2017-03-01         151.54    240.776667  ...    222.991672     224.955869\n",
              "2017-04-01         118.79    209.833333  ...    187.265836     173.564761\n",
              "2017-05-01         153.18    161.550000  ...    153.027918     135.222428\n",
              "2017-06-01         212.08    141.170000  ...    153.103959     147.792728\n",
              "2017-07-01         281.19    161.350000  ...    182.591980     192.793819\n",
              "2017-08-01         237.97    215.483333  ...    231.890990     254.671146\n",
              "2017-09-01         284.30    243.746667  ...    234.930495     242.980344\n",
              "2017-10-01         172.69    267.820000  ...    259.615247     271.904103\n",
              "2017-11-01         111.51    231.653333  ...    216.152624     202.454231\n",
              "2017-12-01         151.42    189.500000  ...    163.831312     138.793269\n",
              "2018-01-01         267.32    145.206667  ...    157.625656     147.631981\n",
              "2018-02-01         201.35    176.750000  ...    212.472828     231.413594\n",
              "2018-03-01         202.91    206.696667  ...    206.911414     210.369078\n",
              "2018-04-01         150.86    223.860000  ...    204.910707     205.147723\n",
              "2018-05-01         163.07    185.040000  ...    177.885353     167.146317\n",
              "2018-06-01         219.76    172.280000  ...    170.477677     164.292895\n",
              "2018-07-01         283.98    177.896667  ...    195.118838     203.119869\n",
              "2018-08-01         290.15    222.270000  ...    239.549419     259.721961\n",
              "2018-09-01         257.96    264.630000  ...    264.849710     281.021588\n",
              "2018-10-01         327.19    277.363333  ...    261.404855     264.878476\n",
              "2018-11-01         193.49    291.766667  ...    294.297427     308.496543\n",
              "2018-12-01         152.34    259.546667  ...    243.893714     227.991963\n",
              "\n",
              "[36 rows x 5 columns]"
            ]
          },
          "metadata": {
            "tags": []
          },
          "execution_count": 33
        }
      ]
    },
    {
      "cell_type": "code",
      "metadata": {
        "colab": {
          "base_uri": "https://localhost:8080/",
          "height": 309
        },
        "id": "E1vGwz5R_I2q",
        "outputId": "f0b03761-e0a8-4a01-852c-fdb8f41e074d"
      },
      "source": [
        "bill_2018[['Billed_amount', 'ewm_window_3a']].plot()"
      ],
      "execution_count": null,
      "outputs": [
        {
          "output_type": "execute_result",
          "data": {
            "text/plain": [
              "<matplotlib.axes._subplots.AxesSubplot at 0x7ff2605f56d0>"
            ]
          },
          "metadata": {
            "tags": []
          },
          "execution_count": 35
        },
        {
          "output_type": "display_data",
          "data": {
            "image/png": "[encoded data removed]",
            "text/plain": [
              "<Figure size 432x288 with 1 Axes>"
            ]
          },
          "metadata": {
            "tags": [],
            "needs_background": "light"
          }
        }
      ]
    },
    {
      "cell_type": "code",
      "metadata": {
        "id": "4Y8HszXd_Wax"
      },
      "source": [
        "bill_2018['ewm_window_3a3']=bill_2018['Billed_amount'].ewm(alpha=0.3, adjust=False, min_periods=3).mean().shift(1)"
      ],
      "execution_count": null,
      "outputs": []
    },
    {
      "cell_type": "code",
      "metadata": {
        "colab": {
          "base_uri": "https://localhost:8080/",
          "height": 309
        },
        "id": "q-C5y6Jm_82d",
        "outputId": "f7e2cafe-d5d3-48e2-cf5c-a2f598e0cfc5"
      },
      "source": [
        "bill_2018[['Billed_amount', 'ewm_window_3a', 'ewm_window_3a3']].plot()"
      ],
      "execution_count": 45,
      "outputs": [
        {
          "output_type": "execute_result",
          "data": {
            "text/plain": [
              "<matplotlib.axes._subplots.AxesSubplot at 0x7ff260556150>"
            ]
          },
          "metadata": {
            "tags": []
          },
          "execution_count": 45
        },
        {
          "output_type": "display_data",
          "data": {
            "image/png": "[encoded data removed]",
            "text/plain": [
              "<Figure size 432x288 with 1 Axes>"
            ]
          },
          "metadata": {
            "tags": [],
            "needs_background": "light"
          }
        }
      ]
    },
    {
      "cell_type": "markdown",
      "metadata": {
        "id": "tZZzATR5AcKh"
      },
      "source": [
        "from above plot, we can understand that, decreasing alpha makes the plot smooth and flattens as more historical data is taken into account\n",
        "\n",
        "P.S. it's not performing above"
      ]
    },
    {
      "cell_type": "code",
      "metadata": {
        "id": "P212wjwoAK0y",
        "colab": {
          "base_uri": "https://localhost:8080/"
        },
        "outputId": "4bad80e1-d5da-41aa-99cb-0145773b22d2"
      },
      "source": [
        "((bill_2018['Billed_amount']-bill_2018['wma_rolling_3'])**2).mean()**0.5"
      ],
      "execution_count": 39,
      "outputs": [
        {
          "output_type": "execute_result",
          "data": {
            "text/plain": [
              "65.82572602256133"
            ]
          },
          "metadata": {
            "tags": []
          },
          "execution_count": 39
        }
      ]
    },
    {
      "cell_type": "code",
      "metadata": {
        "colab": {
          "base_uri": "https://localhost:8080/"
        },
        "id": "KdiodkPHI-NB",
        "outputId": "8f4b5300-6db2-4f33-c989-65d57633441d"
      },
      "source": [
        "((bill_2018['Billed_amount']-bill_2018['ewm_window_3'])**2).mean()**0.5"
      ],
      "execution_count": 42,
      "outputs": [
        {
          "output_type": "execute_result",
          "data": {
            "text/plain": [
              "64.32131239414655"
            ]
          },
          "metadata": {
            "tags": []
          },
          "execution_count": 42
        }
      ]
    },
    {
      "cell_type": "code",
      "metadata": {
        "colab": {
          "base_uri": "https://localhost:8080/"
        },
        "id": "WhPeX1SNJApy",
        "outputId": "21c694a3-9b0d-42db-e141-776014a66580"
      },
      "source": [
        "((bill_2018['Billed_amount']-bill_2018['ewm_window_3a'])**2).mean()**0.5"
      ],
      "execution_count": 43,
      "outputs": [
        {
          "output_type": "execute_result",
          "data": {
            "text/plain": [
              "61.26408398853503"
            ]
          },
          "metadata": {
            "tags": []
          },
          "execution_count": 43
        }
      ]
    },
    {
      "cell_type": "code",
      "metadata": {
        "colab": {
          "base_uri": "https://localhost:8080/"
        },
        "id": "RxAQGIYtJefr",
        "outputId": "77404a54-e17c-4995-8337-6cb72ead0f05"
      },
      "source": [
        "((bill_2018['Billed_amount']-bill_2018['ewm_window_3a3'])**2).mean()**0.5"
      ],
      "execution_count": 44,
      "outputs": [
        {
          "output_type": "execute_result",
          "data": {
            "text/plain": [
              "65.22424423118377"
            ]
          },
          "metadata": {
            "tags": []
          },
          "execution_count": 44
        }
      ]
    },
    {
      "cell_type": "code",
      "metadata": {
        "id": "3Jt7nnnoJhsN"
      },
      "source": [
        ""
      ],
      "execution_count": null,
      "outputs": []
    }
  ]
}